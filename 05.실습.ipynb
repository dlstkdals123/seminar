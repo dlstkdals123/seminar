{
 "cells": [
  {
   "cell_type": "code",
   "execution_count": null,
   "id": "42b96c84",
   "metadata": {},
   "outputs": [
    {
     "ename": "NoSuchElementException",
     "evalue": "Message: no such element: Unable to locate element: {\"method\":\"css selector\",\"selector\":\".mXwfNd\"}\n  (Session info: chrome=138.0.7204.168); For documentation on this error, please visit: https://www.selenium.dev/documentation/webdriver/troubleshooting/errors#no-such-element-exception\nStacktrace:\n\tGetHandleVerifier [0x0x7ff6e16ce415+77285]\n\tGetHandleVerifier [0x0x7ff6e16ce470+77376]\n\t(No symbol) [0x0x7ff6e1499a6a]\n\t(No symbol) [0x0x7ff6e14f0406]\n\t(No symbol) [0x0x7ff6e14f06bc]\n\t(No symbol) [0x0x7ff6e1543ac7]\n\t(No symbol) [0x0x7ff6e151864f]\n\t(No symbol) [0x0x7ff6e154087f]\n\t(No symbol) [0x0x7ff6e15183e3]\n\t(No symbol) [0x0x7ff6e14e1521]\n\t(No symbol) [0x0x7ff6e14e22b3]\n\tGetHandleVerifier [0x0x7ff6e19b1efd+3107021]\n\tGetHandleVerifier [0x0x7ff6e19ac29d+3083373]\n\tGetHandleVerifier [0x0x7ff6e19cbedd+3213485]\n\tGetHandleVerifier [0x0x7ff6e16e884e+184862]\n\tGetHandleVerifier [0x0x7ff6e16f055f+216879]\n\tGetHandleVerifier [0x0x7ff6e16d7084+113236]\n\tGetHandleVerifier [0x0x7ff6e16d7239+113673]\n\tGetHandleVerifier [0x0x7ff6e16be298+11368]\n\tBaseThreadInitThunk [0x0x7ffae81de8d7+23]\n\tRtlUserThreadStart [0x0x7ffae87fc34c+44]\n",
     "output_type": "error",
     "traceback": [
      "\u001b[31m---------------------------------------------------------------------------\u001b[39m",
      "\u001b[31mNoSuchElementException\u001b[39m                    Traceback (most recent call last)",
      "\u001b[36mCell\u001b[39m\u001b[36m \u001b[39m\u001b[32mIn[4]\u001b[39m\u001b[32m, line 27\u001b[39m\n\u001b[32m     24\u001b[39m search.send_keys(Keys.ENTER)\n\u001b[32m     26\u001b[39m wait()\n\u001b[32m---> \u001b[39m\u001b[32m27\u001b[39m search = \u001b[43mdriver\u001b[49m\u001b[43m.\u001b[49m\u001b[43mfind_element\u001b[49m\u001b[43m(\u001b[49m\u001b[43mBy\u001b[49m\u001b[43m.\u001b[49m\u001b[43mCSS_SELECTOR\u001b[49m\u001b[43m,\u001b[49m\u001b[43m \u001b[49m\u001b[33;43m'\u001b[39;49m\u001b[33;43m.mXwfNd\u001b[39;49m\u001b[33;43m'\u001b[39;49m\u001b[43m)\u001b[49m\n\u001b[32m     28\u001b[39m search.click()\n\u001b[32m     30\u001b[39m wait()\n",
      "\u001b[36mFile \u001b[39m\u001b[32mc:\\Users\\ism\\anaconda3\\envs\\crawling\\Lib\\site-packages\\selenium\\webdriver\\remote\\webdriver.py:748\u001b[39m, in \u001b[36mWebDriver.find_element\u001b[39m\u001b[34m(self, by, value)\u001b[39m\n\u001b[32m    745\u001b[39m     by = By.CSS_SELECTOR\n\u001b[32m    746\u001b[39m     value = \u001b[33mf\u001b[39m\u001b[33m'\u001b[39m\u001b[33m[name=\u001b[39m\u001b[33m\"\u001b[39m\u001b[38;5;132;01m{\u001b[39;00mvalue\u001b[38;5;132;01m}\u001b[39;00m\u001b[33m\"\u001b[39m\u001b[33m]\u001b[39m\u001b[33m'\u001b[39m\n\u001b[32m--> \u001b[39m\u001b[32m748\u001b[39m \u001b[38;5;28;01mreturn\u001b[39;00m \u001b[38;5;28;43mself\u001b[39;49m\u001b[43m.\u001b[49m\u001b[43mexecute\u001b[49m\u001b[43m(\u001b[49m\u001b[43mCommand\u001b[49m\u001b[43m.\u001b[49m\u001b[43mFIND_ELEMENT\u001b[49m\u001b[43m,\u001b[49m\u001b[43m \u001b[49m\u001b[43m{\u001b[49m\u001b[33;43m\"\u001b[39;49m\u001b[33;43musing\u001b[39;49m\u001b[33;43m\"\u001b[39;49m\u001b[43m:\u001b[49m\u001b[43m \u001b[49m\u001b[43mby\u001b[49m\u001b[43m,\u001b[49m\u001b[43m \u001b[49m\u001b[33;43m\"\u001b[39;49m\u001b[33;43mvalue\u001b[39;49m\u001b[33;43m\"\u001b[39;49m\u001b[43m:\u001b[49m\u001b[43m \u001b[49m\u001b[43mvalue\u001b[49m\u001b[43m}\u001b[49m\u001b[43m)\u001b[49m[\u001b[33m\"\u001b[39m\u001b[33mvalue\u001b[39m\u001b[33m\"\u001b[39m]\n",
      "\u001b[36mFile \u001b[39m\u001b[32mc:\\Users\\ism\\anaconda3\\envs\\crawling\\Lib\\site-packages\\selenium\\webdriver\\remote\\webdriver.py:354\u001b[39m, in \u001b[36mWebDriver.execute\u001b[39m\u001b[34m(self, driver_command, params)\u001b[39m\n\u001b[32m    352\u001b[39m response = \u001b[38;5;28mself\u001b[39m.command_executor.execute(driver_command, params)\n\u001b[32m    353\u001b[39m \u001b[38;5;28;01mif\u001b[39;00m response:\n\u001b[32m--> \u001b[39m\u001b[32m354\u001b[39m     \u001b[38;5;28;43mself\u001b[39;49m\u001b[43m.\u001b[49m\u001b[43merror_handler\u001b[49m\u001b[43m.\u001b[49m\u001b[43mcheck_response\u001b[49m\u001b[43m(\u001b[49m\u001b[43mresponse\u001b[49m\u001b[43m)\u001b[49m\n\u001b[32m    355\u001b[39m     response[\u001b[33m\"\u001b[39m\u001b[33mvalue\u001b[39m\u001b[33m\"\u001b[39m] = \u001b[38;5;28mself\u001b[39m._unwrap_value(response.get(\u001b[33m\"\u001b[39m\u001b[33mvalue\u001b[39m\u001b[33m\"\u001b[39m, \u001b[38;5;28;01mNone\u001b[39;00m))\n\u001b[32m    356\u001b[39m     \u001b[38;5;28;01mreturn\u001b[39;00m response\n",
      "\u001b[36mFile \u001b[39m\u001b[32mc:\\Users\\ism\\anaconda3\\envs\\crawling\\Lib\\site-packages\\selenium\\webdriver\\remote\\errorhandler.py:229\u001b[39m, in \u001b[36mErrorHandler.check_response\u001b[39m\u001b[34m(self, response)\u001b[39m\n\u001b[32m    227\u001b[39m         alert_text = value[\u001b[33m\"\u001b[39m\u001b[33malert\u001b[39m\u001b[33m\"\u001b[39m].get(\u001b[33m\"\u001b[39m\u001b[33mtext\u001b[39m\u001b[33m\"\u001b[39m)\n\u001b[32m    228\u001b[39m     \u001b[38;5;28;01mraise\u001b[39;00m exception_class(message, screen, stacktrace, alert_text)  \u001b[38;5;66;03m# type: ignore[call-arg]  # mypy is not smart enough here\u001b[39;00m\n\u001b[32m--> \u001b[39m\u001b[32m229\u001b[39m \u001b[38;5;28;01mraise\u001b[39;00m exception_class(message, screen, stacktrace)\n",
      "\u001b[31mNoSuchElementException\u001b[39m: Message: no such element: Unable to locate element: {\"method\":\"css selector\",\"selector\":\".mXwfNd\"}\n  (Session info: chrome=138.0.7204.168); For documentation on this error, please visit: https://www.selenium.dev/documentation/webdriver/troubleshooting/errors#no-such-element-exception\nStacktrace:\n\tGetHandleVerifier [0x0x7ff6e16ce415+77285]\n\tGetHandleVerifier [0x0x7ff6e16ce470+77376]\n\t(No symbol) [0x0x7ff6e1499a6a]\n\t(No symbol) [0x0x7ff6e14f0406]\n\t(No symbol) [0x0x7ff6e14f06bc]\n\t(No symbol) [0x0x7ff6e1543ac7]\n\t(No symbol) [0x0x7ff6e151864f]\n\t(No symbol) [0x0x7ff6e154087f]\n\t(No symbol) [0x0x7ff6e15183e3]\n\t(No symbol) [0x0x7ff6e14e1521]\n\t(No symbol) [0x0x7ff6e14e22b3]\n\tGetHandleVerifier [0x0x7ff6e19b1efd+3107021]\n\tGetHandleVerifier [0x0x7ff6e19ac29d+3083373]\n\tGetHandleVerifier [0x0x7ff6e19cbedd+3213485]\n\tGetHandleVerifier [0x0x7ff6e16e884e+184862]\n\tGetHandleVerifier [0x0x7ff6e16f055f+216879]\n\tGetHandleVerifier [0x0x7ff6e16d7084+113236]\n\tGetHandleVerifier [0x0x7ff6e16d7239+113673]\n\tGetHandleVerifier [0x0x7ff6e16be298+11368]\n\tBaseThreadInitThunk [0x0x7ffae81de8d7+23]\n\tRtlUserThreadStart [0x0x7ffae87fc34c+44]\n"
     ]
    }
   ],
   "source": [
    "from selenium import webdriver\n",
    "from selenium.webdriver.common.by import By\n",
    "from selenium.webdriver.common.keys import Keys\n",
    "\n",
    "import time, random\n",
    "import pyperclip\n",
    "\n",
    "def wait(min: float = 0.5, max: float = 1.5):\n",
    "    time.sleep(random.uniform(min, max))\n",
    "\n",
    "# 나중에 관심있으면 다시 시도해보기.\n",
    "# naver는 쉬운데 google은 단단하네; 자꾸 로봇이 아닙니다 떠서 시간관계상 중단\n",
    "driver = webdriver.Chrome()\n",
    "driver.get('https://www.google.com')\n",
    "\n",
    "wait()\n",
    "search = driver.find_element(By.CSS_SELECTOR, '#APjFqb')\n",
    "search.click()\n",
    "\n",
    "target = '쿠다 이즈나'\n",
    "pyperclip.copy(target)\n",
    "wait()\n",
    "search.send_keys(Keys.CONTROL + 'v')\n",
    "\n",
    "wait(0.1, 0.3)\n",
    "search.send_keys(Keys.ENTER)\n",
    "\n",
    "wait()\n",
    "search = driver.find_element(By.CSS_SELECTOR, '.mXwfNd')\n",
    "search.click()\n",
    "\n",
    "wait()\n",
    "items = driver.find_elements(By.CSS_SELECTOR, '.wIjY0d jFk0f>div img')\n",
    "\n",
    "for item in items:\n",
    "    print(item.get_attribute('src'))\n",
    "\n",
    "wait()\n",
    "driver.quit()\n",
    "\n"
   ]
  }
 ],
 "metadata": {
  "kernelspec": {
   "display_name": "crawling",
   "language": "python",
   "name": "python3"
  },
  "language_info": {
   "codemirror_mode": {
    "name": "ipython",
    "version": 3
   },
   "file_extension": ".py",
   "mimetype": "text/x-python",
   "name": "python",
   "nbconvert_exporter": "python",
   "pygments_lexer": "ipython3",
   "version": "3.11.13"
  }
 },
 "nbformat": 4,
 "nbformat_minor": 5
}
