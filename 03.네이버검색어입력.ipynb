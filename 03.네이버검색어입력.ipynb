{
 "cells": [
  {
   "cell_type": "code",
   "execution_count": 10,
   "metadata": {},
   "outputs": [],
   "source": [
    "from selenium import webdriver\n",
    "from selenium.webdriver.common.by import By\n",
    "from selenium.webdriver.common.keys import Keys\n",
    "\n",
    "#크롬 드라이버 생성\n",
    "driver = webdriver.Chrome()\n",
    "driver.get('https://www.naver.com')"
   ]
  },
  {
   "cell_type": "markdown",
   "metadata": {},
   "source": [
    "### 실습) 네이버 검색어 입력하여 사용하기"
   ]
  },
  {
   "cell_type": "markdown",
   "metadata": {},
   "source": [
    "기본 검색방법"
   ]
  },
  {
   "cell_type": "code",
   "execution_count": 11,
   "metadata": {},
   "outputs": [],
   "source": [
    "#네이버 검색창에 클릭해서 커서 옮기기\n",
    "search = driver.find_element(By.CSS_SELECTOR, '#query')\n",
    "search.click()"
   ]
  },
  {
   "cell_type": "code",
   "execution_count": 12,
   "metadata": {},
   "outputs": [],
   "source": [
    "#검색어 입력하기\n",
    "search.send_keys('복숭아')"
   ]
  },
  {
   "cell_type": "code",
   "execution_count": 13,
   "metadata": {},
   "outputs": [],
   "source": [
    "# 1 - 엔터키 입력하기\n",
    "search.send_keys(Keys.ENTER)"
   ]
  },
  {
   "cell_type": "code",
   "execution_count": null,
   "metadata": {},
   "outputs": [],
   "source": [
    "# 2 - 또는 검색 버튼 클릭하기\n",
    "search_btn = driver.find_element(By.CSS_SELECTOR, '.btn_search')\n",
    "search_btn.click()"
   ]
  },
  {
   "cell_type": "markdown",
   "metadata": {},
   "source": [
    "여러 태그 동시 제어하기"
   ]
  },
  {
   "cell_type": "code",
   "execution_count": 14,
   "metadata": {},
   "outputs": [],
   "source": [
    "from selenium import webdriver\n",
    "from selenium.webdriver.common.by import By\n",
    "from selenium.webdriver.common.keys import Keys\n",
    "\n",
    "#크롬 드라이버 생성\n",
    "driver = webdriver.Chrome()\n",
    "driver.get('https://www.naver.com')\n",
    "\n",
    "#네이버 검색창에 클릭해서 커서 옮기기\n",
    "search = driver.find_element(By.CSS_SELECTOR, '#query')\n",
    "search.click()\n",
    "\n",
    "#검색어 입력하기\n",
    "search.send_keys('복숭아')\n",
    "search.send_keys(Keys.ENTER)"
   ]
  },
  {
   "cell_type": "code",
   "execution_count": 17,
   "metadata": {},
   "outputs": [
    {
     "name": "stdout",
     "output_type": "stream",
     "text": [
      "100% 직접 당도 선별한 고당도 딱딱이복숭아\n",
      "복숭아 신비복숭아 납작 거반도 천도 말랑이 햇 황도 대극천 백도 딱딱이 달콤한 고당도 제철\n",
      "한들애 햇 백도복숭아(그레이트) 2kg/4kg\n",
      "복숭아 신비복숭아 납작복숭아 딱딱이 말랑이 거반도 대극천 천도 백도 황도 하우스\n",
      "프리미엄 감곡 햇사레 복숭아 천중도 백도 황도 4kg 말랑이 딱딱이 딱복 산지직송\n",
      "딱딱이 복숭아 백도 황도 천중도 복숭아 딱 딱복 말랑이 털 물복숭아 물복 거반도 납작\n",
      "［당도 보장］영천 청년농부 대극천 납작이 납작복숭아 거반도 딱딱이 말랑이 2kg 3kg\n",
      "[영천스타농원] 경봉 천일도 유명 백도 딱딱이복숭아 당도선별 2kg 4kg\n"
     ]
    }
   ],
   "source": [
    "# 네이버 가격비교에 있는 리스트 가져오기\n",
    "\n",
    "# items = driver.find_elements(By.CSS_SELECTOR, 'div.shoppingProductList-pc-module__shopping_product_list___ePVwT>ul>li div>a span')\n",
    "items = driver.find_elements(By.CSS_SELECTOR, 'div.shoppingProductList-pc-module__shopping_product_list___ePVwT>ul>li div>a:has(span)')\n",
    "for item in items:\n",
    "    print(item.text)"
   ]
  },
  {
   "cell_type": "markdown",
   "metadata": {},
   "source": [
    "### 네이버 가격비교에 있는 리스트 클릭하기"
   ]
  },
  {
   "cell_type": "code",
   "execution_count": null,
   "metadata": {},
   "outputs": [],
   "source": [
    "# 위에서 수행한 예제 리스트 클릭하기\n",
    "items = driver.find_elements(By.CSS_SELECTOR, 'div.shoppingProductList-pc-module__shopping_product_list___ePVwT>ul>li div>a:has(span)')\n",
    "for item in items:\n",
    "    item.click()"
   ]
  },
  {
   "cell_type": "code",
   "execution_count": null,
   "metadata": {},
   "outputs": [],
   "source": [
    "from selenium import webdriver\n",
    "from selenium.webdriver.common.by import By\n",
    "from selenium.webdriver.common.keys import Keys\n",
    "import time\n",
    "import random\n",
    "\n",
    "\n",
    "driver = webdriver.Chrome()\n",
    "driver.get('https://www.naver.com')\n",
    "\n",
    "search = driver.find_element(By.CSS_SELECTOR, '#query')\n",
    "search.click()\n",
    "\n",
    "search.send_keys('복숭아')\n",
    "search.send_keys(Keys.ENTER)\n",
    "\n",
    "items = driver.find_elements(By.CSS_SELECTOR, 'div.shoppingProductList-pc-module__shopping_product_list___ePVwT>ul>li div>a:has(span)')\n",
    "for item in items:\n",
    "    item.click()\n",
    "    time.sleep(random.uniform(0.5,1.5))"
   ]
  },
  {
   "cell_type": "markdown",
   "metadata": {},
   "source": [
    "동적 대기 방법"
   ]
  },
  {
   "cell_type": "code",
   "execution_count": null,
   "metadata": {},
   "outputs": [],
   "source": [
    "# Time 모듈 사용하기\n",
    "import time\n",
    "\n",
    "time.sleep(1)"
   ]
  },
  {
   "cell_type": "code",
   "execution_count": null,
   "metadata": {},
   "outputs": [],
   "source": [
    "import time\n",
    "import random\n",
    "time.sleep(random.uniform(0.5,1.5))"
   ]
  },
  {
   "cell_type": "code",
   "execution_count": null,
   "metadata": {},
   "outputs": [],
   "source": [
    "#묵시적 대기\n",
    "driver.implicitly_wait(10)"
   ]
  },
  {
   "cell_type": "code",
   "execution_count": null,
   "metadata": {},
   "outputs": [],
   "source": [
    "#묵시적 대기를 걸어놓으면 10초까지는 대기해 줌\n",
    "search = driver.find_element(By.CSS_SELECTOR, '#query')"
   ]
  },
  {
   "cell_type": "code",
   "execution_count": null,
   "metadata": {},
   "outputs": [],
   "source": [
    "# 명시적 대기를 걸으면 timeout exception이 발생함\n",
    "from selenium.webdriver.support.ui import WebDriverWait\n",
    "from selenium.webdriver.support import expected_conditions as EC\n",
    "\n",
    "element = WebDriverWait(driver, 5).until(\n",
    "    EC.presence_of_all_elements_located((By.CSS_SELECTOR, '#query')) \n",
    ")\n",
    "element"
   ]
  },
  {
   "cell_type": "code",
   "execution_count": null,
   "metadata": {},
   "outputs": [],
   "source": [
    "element = WebDriverWait(driver, 5).until(\n",
    "    EC.presence_of_all_elements_located((By.CSS_SELECTOR, '#query1')) #query1은 없는 것임\n",
    ")\n",
    "element"
   ]
  },
  {
   "cell_type": "markdown",
   "metadata": {},
   "source": [
    "로봇으로 인지하는 것 회피 하기 - 복사해서 붙여넣기"
   ]
  },
  {
   "cell_type": "code",
   "execution_count": 18,
   "metadata": {},
   "outputs": [],
   "source": [
    "from selenium import webdriver\n",
    "from selenium.webdriver.common.by import By\n",
    "from selenium.webdriver.common.keys import Keys\n",
    "\n",
    "driver = webdriver.Chrome()\n",
    "driver.get('https://www.naver.com')"
   ]
  },
  {
   "cell_type": "code",
   "execution_count": 19,
   "metadata": {},
   "outputs": [],
   "source": [
    "\n",
    "search = driver.find_element(By.CSS_SELECTOR, '#query')\n",
    "search.click()\n",
    "\n",
    "search.send_keys('복숭아')"
   ]
  },
  {
   "cell_type": "code",
   "execution_count": 20,
   "metadata": {},
   "outputs": [],
   "source": [
    "import time\n",
    "import random\n",
    "\n",
    "time.sleep(random.uniform(0.5, 1.5)) \n",
    "search.send_keys(Keys.CONTROL + 'a')\n",
    "time.sleep(random.uniform(0.5, 1.5))  \n",
    "search.send_keys(Keys.CONTROL + 'c')\n",
    "time.sleep(random.uniform(0.5, 1.5))  \n",
    "search.clear()\n",
    "time.sleep(random.uniform(0.5, 1.5))  \n",
    "search.send_keys(Keys.CONTROL + 'v')\n",
    "time.sleep(random.uniform(0.5, 1.5))\n",
    "search.send_keys(Keys.ENTER)"
   ]
  },
  {
   "cell_type": "code",
   "execution_count": null,
   "metadata": {},
   "outputs": [],
   "source": [
    "# 클립보드 활용하기\n",
    "%pip install pyperclip"
   ]
  },
  {
   "cell_type": "code",
   "execution_count": null,
   "metadata": {},
   "outputs": [],
   "source": [
    "from selenium import webdriver\n",
    "from selenium.webdriver.common.by import By\n",
    "from selenium.webdriver.common.keys import Keys\n",
    "import pyperclip\n",
    "import time\n",
    "import random\n",
    "\n",
    "driver = webdriver.Chrome()\n",
    "driver.get('https://www.naver.com')\n",
    "search = driver.find_element(By.CSS_SELECTOR, '#query')\n",
    "search.click()\n",
    "target = '복숭아'\n",
    "pyperclip.copy(target)\n",
    "time.sleep(random.uniform(0.5, 1.5))  \n",
    "search.send_keys(Keys.CONTROL + 'v')\n",
    "\n",
    "time.sleep(random.uniform(0.5, 1.5))\n",
    "search.send_keys(Keys.ENTER)"
   ]
  },
  {
   "cell_type": "code",
   "execution_count": null,
   "metadata": {},
   "outputs": [],
   "source": [
    "driver.close()"
   ]
  }
 ],
 "metadata": {
  "kernelspec": {
   "display_name": "Python 3",
   "language": "python",
   "name": "python3"
  },
  "language_info": {
   "codemirror_mode": {
    "name": "ipython",
    "version": 3
   },
   "file_extension": ".py",
   "mimetype": "text/x-python",
   "name": "python",
   "nbconvert_exporter": "python",
   "pygments_lexer": "ipython3",
   "version": "3.11.9"
  }
 },
 "nbformat": 4,
 "nbformat_minor": 2
}
