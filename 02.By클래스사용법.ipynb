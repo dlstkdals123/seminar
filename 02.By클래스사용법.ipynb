{
 "cells": [
  {
   "cell_type": "code",
   "execution_count": null,
   "metadata": {},
   "outputs": [],
   "source": [
    "import os\n",
    "from selenium import webdriver\n",
    "from selenium.webdriver.common.by import By\n",
    "\n",
    "#크롬 드라이버 생성\n",
    "driver = webdriver.Chrome()\n",
    "file_path = f\"file://{os.path.abspath('example.html')}\"\n",
    "driver.get(file_path)"
   ]
  },
  {
   "cell_type": "code",
   "execution_count": null,
   "metadata": {},
   "outputs": [],
   "source": [
    "# By.ID로 요소 찾기\n",
    "element_by_id = driver.find_element(By.ID, 'main')\n",
    "print(\"Element by ID:\", element_by_id.tag_name)\n"
   ]
  },
  {
   "cell_type": "code",
   "execution_count": null,
   "metadata": {},
   "outputs": [],
   "source": [
    "# By.NAME으로 요소 찾기\n",
    "element_by_name = driver.find_element(By.NAME, 'exampleLink')\n",
    "print(\"Elemenelement_by_name = driver.find_element(By.NAME, 'exampleLink')t by Name:\", element_by_name.get_attribute('href'))\n"
   ]
  },
  {
   "cell_type": "code",
   "execution_count": null,
   "metadata": {},
   "outputs": [],
   "source": [
    "\n",
    "# By.CLASS_NAME으로 요소 찾기\n",
    "element_by_class_name = driver.find_element(By.CLASS_NAME, 'content')\n",
    "print(\"Element by Class Name:\", element_by_class_name.tag_name)\n"
   ]
  },
  {
   "cell_type": "code",
   "execution_count": null,
   "metadata": {},
   "outputs": [],
   "source": [
    "# By.TAG_NAME으로 요소 찾기\n",
    "element_by_tag_name = driver.find_element(By.TAG_NAME, 'p')\n",
    "print(\"Element by Tag Name:\", element_by_tag_name.text)\n"
   ]
  },
  {
   "cell_type": "code",
   "execution_count": null,
   "metadata": {},
   "outputs": [],
   "source": [
    "\n",
    "# By.LINK_TEXT로 요소 찾기\n",
    "element_by_link_text = driver.find_element(By.LINK_TEXT, 'Example Link')\n",
    "print(\"Element by Link Text:\", element_by_link_text.get_attribute('href'))\n"
   ]
  },
  {
   "cell_type": "code",
   "execution_count": null,
   "metadata": {},
   "outputs": [],
   "source": [
    "\n",
    "# By.PARTIAL_LINK_TEXT로 요소 찾기\n",
    "element_by_partial_link_text = driver.find_element(By.PARTIAL_LINK_TEXT, 'Example')\n",
    "print(\"Element by Partial Link Text:\", element_by_partial_link_text.get_attribute('href'))\n"
   ]
  },
  {
   "cell_type": "code",
   "execution_count": null,
   "metadata": {},
   "outputs": [],
   "source": [
    "\n",
    "# By.XPATH로 요소 찾기\n",
    "element_by_xpath = driver.find_element(By.XPATH, '//*[@id=\"main\"]')\n",
    "print(\"Element by XPath:\", element_by_xpath.tag_name)\n"
   ]
  },
  {
   "cell_type": "code",
   "execution_count": null,
   "metadata": {},
   "outputs": [],
   "source": [
    "\n",
    "# By.CSS_SELECTOR로 요소 찾기\n",
    "elements_by_css = driver.find_elements(By.CSS_SELECTOR, 'p.text')\n",
    "for element in elements_by_css:\n",
    "    print(\"Element by CSS Selector:\", element.text)"
   ]
  },
  {
   "cell_type": "code",
   "execution_count": null,
   "metadata": {},
   "outputs": [],
   "source": [
    "driver.close()"
   ]
  }
 ],
 "metadata": {
  "kernelspec": {
   "display_name": "Python 3",
   "language": "python",
   "name": "python3"
  },
  "language_info": {
   "codemirror_mode": {
    "name": "ipython",
    "version": 3
   },
   "file_extension": ".py",
   "mimetype": "text/x-python",
   "name": "python",
   "nbconvert_exporter": "python",
   "pygments_lexer": "ipython3",
   "version": "3.11.9"
  }
 },
 "nbformat": 4,
 "nbformat_minor": 2
}
