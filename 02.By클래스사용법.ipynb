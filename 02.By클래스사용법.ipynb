{
 "cells": [
  {
   "cell_type": "code",
   "execution_count": 1,
   "metadata": {},
   "outputs": [],
   "source": [
    "import os\n",
    "from selenium import webdriver\n",
    "from selenium.webdriver.common.by import By\n",
    "\n",
    "#크롬 드라이버 생성\n",
    "driver = webdriver.Chrome()\n",
    "file_path = f\"file://{os.path.abspath('example.html')}\"\n",
    "driver.get(file_path)"
   ]
  },
  {
   "cell_type": "code",
   "execution_count": 12,
   "metadata": {},
   "outputs": [
    {
     "name": "stdout",
     "output_type": "stream",
     "text": [
      "태그 이름: div\n",
      "텍스트: Example Link\n",
      "First paragraph\n",
      "Second paragraph\n",
      "HTML: \n",
      "        <a href=\"https://example.com\" class=\"link\" name=\"exampleLink\">\n",
      "            <span>Example Link</span>\n",
      "        </a>\n",
      "        <div class=\"content\">\n",
      "            <p class=\"text\">First paragraph</p>\n",
      "            <p class=\"text\">Second paragraph</p>\n",
      "        </div>\n",
      "    \n",
      "클래스: \n",
      "ID: main\n",
      "크기: {'height': 102, 'width': 1691}\n",
      "위치: {'x': 8, 'y': 8}\n"
     ]
    }
   ],
   "source": [
    "# By.ID로 요소 찾기\n",
    "element_by_id = driver.find_element(By.ID, 'main')\n",
    "print(\"태그 이름:\", element_by_id.tag_name)\n",
    "print(\"텍스트:\", element_by_id.text)\n",
    "print(\"HTML:\", element_by_id.get_attribute('innerHTML'))\n",
    "print(\"클래스:\", element_by_id.get_attribute('class'))\n",
    "print(\"ID:\", element_by_id.get_attribute('id'))\n",
    "print(\"크기:\", element_by_id.size)\n",
    "print(\"위치:\", element_by_id.location)\n"
   ]
  },
  {
   "cell_type": "code",
   "execution_count": 4,
   "metadata": {},
   "outputs": [
    {
     "name": "stdout",
     "output_type": "stream",
     "text": [
      "Elemenelement_by_name = driver.find_element(By.NAME, 'exampleLink')t by Name: https://example.com/\n"
     ]
    }
   ],
   "source": [
    "# By.NAME으로 요소 찾기\n",
    "element_by_name = driver.find_element(By.NAME, 'exampleLink')\n",
    "print(\"Elemenelement_by_name = driver.find_element(By.NAME, 'exampleLink')t by Name:\", element_by_name.get_attribute('href'))\n"
   ]
  },
  {
   "cell_type": "code",
   "execution_count": 5,
   "metadata": {},
   "outputs": [
    {
     "name": "stdout",
     "output_type": "stream",
     "text": [
      "Element by Class Name: div\n"
     ]
    }
   ],
   "source": [
    "\n",
    "# By.CLASS_NAME으로 요소 찾기\n",
    "element_by_class_name = driver.find_element(By.CLASS_NAME, 'content')\n",
    "print(\"Element by Class Name:\", element_by_class_name.tag_name)\n"
   ]
  },
  {
   "cell_type": "code",
   "execution_count": 6,
   "metadata": {},
   "outputs": [
    {
     "name": "stdout",
     "output_type": "stream",
     "text": [
      "Element by Tag Name: First paragraph\n"
     ]
    }
   ],
   "source": [
    "# By.TAG_NAME으로 요소 찾기\n",
    "element_by_tag_name = driver.find_element(By.TAG_NAME, 'p')\n",
    "print(\"Element by Tag Name:\", element_by_tag_name.text)\n"
   ]
  },
  {
   "cell_type": "code",
   "execution_count": 7,
   "metadata": {},
   "outputs": [
    {
     "name": "stdout",
     "output_type": "stream",
     "text": [
      "Element by Link Text: https://example.com/\n"
     ]
    }
   ],
   "source": [
    "\n",
    "# By.LINK_TEXT로 요소 찾기\n",
    "element_by_link_text = driver.find_element(By.LINK_TEXT, 'Example Link')\n",
    "print(\"Element by Link Text:\", element_by_link_text.get_attribute('href'))\n"
   ]
  },
  {
   "cell_type": "code",
   "execution_count": 8,
   "metadata": {},
   "outputs": [
    {
     "name": "stdout",
     "output_type": "stream",
     "text": [
      "Element by Partial Link Text: https://example.com/\n"
     ]
    }
   ],
   "source": [
    "\n",
    "# By.PARTIAL_LINK_TEXT로 요소 찾기\n",
    "element_by_partial_link_text = driver.find_element(By.PARTIAL_LINK_TEXT, 'Example')\n",
    "print(\"Element by Partial Link Text:\", element_by_partial_link_text.get_attribute('href'))\n"
   ]
  },
  {
   "cell_type": "code",
   "execution_count": 9,
   "metadata": {},
   "outputs": [
    {
     "name": "stdout",
     "output_type": "stream",
     "text": [
      "Element by XPath: div\n"
     ]
    }
   ],
   "source": [
    "\n",
    "# By.XPATH로 요소 찾기\n",
    "element_by_xpath = driver.find_element(By.XPATH, '//*[@id=\"main\"]')\n",
    "print(\"Element by XPath:\", element_by_xpath.tag_name)\n"
   ]
  },
  {
   "cell_type": "code",
   "execution_count": 10,
   "metadata": {},
   "outputs": [
    {
     "name": "stdout",
     "output_type": "stream",
     "text": [
      "Element by CSS Selector: First paragraph\n",
      "Element by CSS Selector: Second paragraph\n"
     ]
    }
   ],
   "source": [
    "\n",
    "# By.CSS_SELECTOR로 요소 찾기\n",
    "elements_by_css = driver.find_elements(By.CSS_SELECTOR, 'p.text')\n",
    "for element in elements_by_css:\n",
    "    print(\"Element by CSS Selector:\", element.text)"
   ]
  },
  {
   "cell_type": "code",
   "execution_count": null,
   "metadata": {},
   "outputs": [],
   "source": [
    "driver.close()"
   ]
  }
 ],
 "metadata": {
  "kernelspec": {
   "display_name": "crawling",
   "language": "python",
   "name": "python3"
  },
  "language_info": {
   "codemirror_mode": {
    "name": "ipython",
    "version": 3
   },
   "file_extension": ".py",
   "mimetype": "text/x-python",
   "name": "python",
   "nbconvert_exporter": "python",
   "pygments_lexer": "ipython3",
   "version": "3.11.13"
  }
 },
 "nbformat": 4,
 "nbformat_minor": 2
}
